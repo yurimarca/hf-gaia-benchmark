{
 "cells": [
  {
   "cell_type": "code",
   "execution_count": 29,
   "id": "39771cbe-6ff9-42ca-9992-3185536492bd",
   "metadata": {},
   "outputs": [
    {
     "name": "stdout",
     "output_type": "stream",
     "text": [
      "[\n",
      "    {\n",
      "        \"task_id\": \"305ac316-eef6-4446-960a-92d80d542f82\",\n",
      "        \"question\": \"Who did the actor who played Ray in the Polish-language version of Everybody Loves Raymond play in Magda M.? Give only the first name.\",\n",
      "        \"Level\": \"1\",\n",
      "        \"file_name\": \"\"\n",
      "    }\n",
      "]\n"
     ]
    }
   ],
   "source": [
    "import requests\n",
    "import random\n",
    "import json\n",
    "\n",
    "BASE_URL = \"https://agents-course-unit4-scoring.hf.space\"\n",
    "\n",
    "def fetch_questions():\n",
    "    response = requests.get(f\"{BASE_URL}/questions\", headers={\"accept\": \"application/json\"})\n",
    "    if response.ok:\n",
    "        return response.json()\n",
    "    else:\n",
    "        print(\"Failed to fetch questions:\", response.status_code)\n",
    "        return []\n",
    "\n",
    "# Get the questions\n",
    "questions = fetch_questions()\n",
    "\n",
    "# Print the first one\n",
    "if questions:\n",
    "    # random.seed(42)\n",
    "    random_samples = random.sample(questions, 1)\n",
    "\n",
    "    json_str = json.dumps(random_samples, indent=4)    \n",
    "    print(json_str)"
   ]
  },
  {
   "cell_type": "code",
   "execution_count": 46,
   "id": "0ba66136-83c3-42cc-958a-aa7ef28a73e9",
   "metadata": {},
   "outputs": [
    {
     "data": {
      "text/plain": [
       "False"
      ]
     },
     "execution_count": 46,
     "metadata": {},
     "output_type": "execute_result"
    }
   ],
   "source": [
    "bool(list(questions[0].values())[3])"
   ]
  },
  {
   "cell_type": "code",
   "execution_count": 47,
   "id": "85c1ab1c-864f-4443-882b-60de9d85a49d",
   "metadata": {},
   "outputs": [
    {
     "data": {
      "text/plain": [
       "True"
      ]
     },
     "execution_count": 47,
     "metadata": {},
     "output_type": "execute_result"
    }
   ],
   "source": [
    "bool('a')"
   ]
  },
  {
   "cell_type": "code",
   "execution_count": 55,
   "id": "3296c1c8-b19c-4d55-a1fc-9fe08abb1560",
   "metadata": {},
   "outputs": [
    {
     "name": "stdout",
     "output_type": "stream",
     "text": [
      "Task ID: cca530fc-4052-43b2-b130-b30968d8aa44\n",
      "File: cca530fc-4052-43b2-b130-b30968d8aa44.png\n",
      "\n",
      "Task ID: 99c9cc74-fdc8-46c6-8f8d-3ce2d3bfeea3\n",
      "File: 99c9cc74-fdc8-46c6-8f8d-3ce2d3bfeea3.mp3\n",
      "\n",
      "Task ID: f918266a-b3e0-4914-865d-4faa564f1aef\n",
      "File: f918266a-b3e0-4914-865d-4faa564f1aef.py\n",
      "\n",
      "Task ID: 1f975693-876d-457b-a649-393859e79bf3\n",
      "File: 1f975693-876d-457b-a649-393859e79bf3.mp3\n",
      "\n",
      "Task ID: 7bd855d8-463d-4ed5-93ca-5fe35145f733\n",
      "File: 7bd855d8-463d-4ed5-93ca-5fe35145f733.xlsx\n",
      "\n"
     ]
    }
   ],
   "source": [
    "for q in questions:\n",
    "    v = list(q.values())\n",
    "    if bool(v[3]):\n",
    "        print(f\"Task ID: {v[0]}\")\n",
    "        print(f\"File: {v[3]}\")\n",
    "        print()"
   ]
  },
  {
   "cell_type": "code",
   "execution_count": 59,
   "id": "5faa8933-56eb-4105-9757-c535ae76e121",
   "metadata": {},
   "outputs": [
    {
     "name": "stdout",
     "output_type": "stream",
     "text": [
      "Task ID: cca530fc-4052-43b2-b130-b30968d8aa44\n",
      "File: cca530fc-4052-43b2-b130-b30968d8aa44.png\n",
      "Downloaded file for task cca530fc-4052-43b2-b130-b30968d8aa44 -> resources/cca530fc-4052-43b2-b130-b30968d8aa44.png\n",
      "\n",
      "Task ID: 99c9cc74-fdc8-46c6-8f8d-3ce2d3bfeea3\n",
      "File: 99c9cc74-fdc8-46c6-8f8d-3ce2d3bfeea3.mp3\n",
      "Downloaded file for task 99c9cc74-fdc8-46c6-8f8d-3ce2d3bfeea3 -> resources/99c9cc74-fdc8-46c6-8f8d-3ce2d3bfeea3.mp3\n",
      "\n",
      "Task ID: f918266a-b3e0-4914-865d-4faa564f1aef\n",
      "File: f918266a-b3e0-4914-865d-4faa564f1aef.py\n",
      "Downloaded file for task f918266a-b3e0-4914-865d-4faa564f1aef -> resources/f918266a-b3e0-4914-865d-4faa564f1aef.py\n",
      "\n",
      "Task ID: 1f975693-876d-457b-a649-393859e79bf3\n",
      "File: 1f975693-876d-457b-a649-393859e79bf3.mp3\n",
      "Downloaded file for task 1f975693-876d-457b-a649-393859e79bf3 -> resources/1f975693-876d-457b-a649-393859e79bf3.mp3\n",
      "\n",
      "Task ID: 7bd855d8-463d-4ed5-93ca-5fe35145f733\n",
      "File: 7bd855d8-463d-4ed5-93ca-5fe35145f733.xlsx\n",
      "Downloaded file for task 7bd855d8-463d-4ed5-93ca-5fe35145f733 -> resources/7bd855d8-463d-4ed5-93ca-5fe35145f733.xlsx\n",
      "\n"
     ]
    }
   ],
   "source": [
    "def download_file(task_id, filename=None):\n",
    "    response = requests.get(f\"{BASE_URL}/files/{task_id}\")\n",
    "    if response.ok:\n",
    "        filename = filename or f\"{task_id}.zip\"\n",
    "        filename = f\"resources/{filename}\"\n",
    "        with open(filename, \"wb\") as f:\n",
    "            f.write(response.content)\n",
    "        print(f\"Downloaded file for task {task_id} -> {filename}\")\n",
    "    else:\n",
    "        print(f\"No file found or failed to download for task {task_id}\")\n",
    "\n",
    "for q in questions:\n",
    "    v = list(q.values())\n",
    "    if bool(v[3]):\n",
    "        task_id = v[0]\n",
    "        file = v[3]\n",
    "        print(f\"Task ID: {task_id}\")\n",
    "        print(f\"File: {file}\")\n",
    "\n",
    "        download_file(task_id, file)\n",
    "        print()"
   ]
  },
  {
   "cell_type": "code",
   "execution_count": 28,
   "id": "42797e80-ac51-434a-b47b-18aede83a25a",
   "metadata": {},
   "outputs": [
    {
     "name": "stdout",
     "output_type": "stream",
     "text": [
      "[\n",
      "    {\n",
      "        \"task_id\": \"4fc2f1ae-8625-45b5-ab34-ad4433bc21f8\",\n",
      "        \"question\": \"Who nominated the only Featured Article on English Wikipedia about a dinosaur that was promoted in November 2016?\",\n",
      "        \"Level\": \"1\",\n",
      "        \"file_name\": \"\"\n",
      "    }\n",
      "]\n"
     ]
    }
   ],
   "source": [
    "def fetch_random_question():\n",
    "    response = requests.get(f\"{BASE_URL}/random-question\", headers={\"accept\": \"application/json\"})\n",
    "    if response.ok:\n",
    "        return response.json()\n",
    "    else:\n",
    "        print(\"Failed to fetch questions:\", response.status_code)\n",
    "        return []\n",
    "\n",
    "res = fetch_random_question()\n",
    "json_str = json.dumps(random_samples, indent=4)    \n",
    "print(json_str)"
   ]
  },
  {
   "cell_type": "code",
   "execution_count": 16,
   "id": "4d84b4d3-6b02-4b3a-ae1c-7937a27989ad",
   "metadata": {},
   "outputs": [
    {
     "data": {
      "text/plain": [
       "['__add__',\n",
       " '__class__',\n",
       " '__contains__',\n",
       " '__delattr__',\n",
       " '__dir__',\n",
       " '__doc__',\n",
       " '__eq__',\n",
       " '__format__',\n",
       " '__ge__',\n",
       " '__getattribute__',\n",
       " '__getitem__',\n",
       " '__getnewargs__',\n",
       " '__gt__',\n",
       " '__hash__',\n",
       " '__init__',\n",
       " '__init_subclass__',\n",
       " '__iter__',\n",
       " '__le__',\n",
       " '__len__',\n",
       " '__lt__',\n",
       " '__mod__',\n",
       " '__mul__',\n",
       " '__ne__',\n",
       " '__new__',\n",
       " '__reduce__',\n",
       " '__reduce_ex__',\n",
       " '__repr__',\n",
       " '__rmod__',\n",
       " '__rmul__',\n",
       " '__setattr__',\n",
       " '__sizeof__',\n",
       " '__str__',\n",
       " '__subclasshook__',\n",
       " 'capitalize',\n",
       " 'casefold',\n",
       " 'center',\n",
       " 'count',\n",
       " 'encode',\n",
       " 'endswith',\n",
       " 'expandtabs',\n",
       " 'find',\n",
       " 'format',\n",
       " 'format_map',\n",
       " 'index',\n",
       " 'isalnum',\n",
       " 'isalpha',\n",
       " 'isascii',\n",
       " 'isdecimal',\n",
       " 'isdigit',\n",
       " 'isidentifier',\n",
       " 'islower',\n",
       " 'isnumeric',\n",
       " 'isprintable',\n",
       " 'isspace',\n",
       " 'istitle',\n",
       " 'isupper',\n",
       " 'join',\n",
       " 'ljust',\n",
       " 'lower',\n",
       " 'lstrip',\n",
       " 'maketrans',\n",
       " 'partition',\n",
       " 'removeprefix',\n",
       " 'removesuffix',\n",
       " 'replace',\n",
       " 'rfind',\n",
       " 'rindex',\n",
       " 'rjust',\n",
       " 'rpartition',\n",
       " 'rsplit',\n",
       " 'rstrip',\n",
       " 'split',\n",
       " 'splitlines',\n",
       " 'startswith',\n",
       " 'strip',\n",
       " 'swapcase',\n",
       " 'title',\n",
       " 'translate',\n",
       " 'upper',\n",
       " 'zfill']"
      ]
     },
     "execution_count": 16,
     "metadata": {},
     "output_type": "execute_result"
    }
   ],
   "source": [
    "dir(json_str)"
   ]
  },
  {
   "cell_type": "code",
   "execution_count": 6,
   "id": "4ce79b17-8507-474a-9fc2-e375bcc9bc22",
   "metadata": {},
   "outputs": [],
   "source": [
    "# Load metadata.jsonl\n",
    "import json\n",
    "# Load the metadata.jsonl file\n",
    "with open('metadata.jsonl', 'r') as jsonl_file:\n",
    "    json_list = list(jsonl_file)\n",
    "\n",
    "json_QA = []\n",
    "for json_str in json_list:\n",
    "    json_data = json.loads(json_str)\n",
    "    json_QA.append(json_data)"
   ]
  },
  {
   "cell_type": "code",
   "execution_count": 7,
   "id": "47af6677-0060-4804-afbc-927a062e4ad2",
   "metadata": {},
   "outputs": [
    {
     "name": "stdout",
     "output_type": "stream",
     "text": [
      "==================================================\n",
      "Task ID: db4fd70a-2d37-40ea-873f-9433dc5e301f\n",
      "Question: As of May 2023, how many stops are between South Station and Windsor Gardens on MBTA’s Franklin-Foxboro line (not included)?\n",
      "Level: 2\n",
      "Final Answer: 10\n",
      "Annotator Metadata: \n",
      "  ├── Steps: \n",
      "  │      ├── 1. Search the web for “MBTA Franklin Foxboro line”.\n",
      "  │      ├── 2. Click on top result, on the MBTA website.\n",
      "  │      ├── 3. Scroll down on the list of stops, and count the current stops between South Station and Windsor Gardens.\n",
      "  │      ├── 4. Click the “Schedule & Maps” tab to view a map of the route.\n",
      "  │      ├── 5. Examine the map to confirm that the order of stops is the same as on the listing of stops.\n",
      "  │      ├── 6. Return to web search.\n",
      "  │      ├── 7. Click on Wikipedia article for Franklin line.\n",
      "  │      ├── 8. Read the article to check whether any stops were added or removed since the date given in the question.\n",
      "  │      ├── 9. Search the web for “MBTA Franklin Foxboro Line changes”.\n",
      "  │      ├── 10. Click News tab.\n",
      "  │      ├── 11. Click article about rail schedule changes.\n",
      "  │      ├── 12. Confirm that none of the changes affect the answer to the question.\n",
      "  ├── Number of steps: 12\n",
      "  ├── How long did this take?: 5-10 minutes\n",
      "  ├── Tools:\n",
      "  │      ├── 1. Search engine\n",
      "  │      ├── 2. Web browser\n",
      "  └── Number of tools: 2\n",
      "==================================================\n"
     ]
    }
   ],
   "source": [
    "# randomly select 3 samples\n",
    "# {\"task_id\": \"c61d22de-5f6c-4958-a7f6-5e9707bd3466\", \"Question\": \"A paper about AI regulation that was originally submitted to arXiv.org in June 2022 shows a figure with three axes, where each axis has a label word at both ends. Which of these words is used to describe a type of society in a Physics and Society article submitted to arXiv.org on August 11, 2016?\", \"Level\": 2, \"Final answer\": \"egalitarian\", \"file_name\": \"\", \"Annotator Metadata\": {\"Steps\": \"1. Go to arxiv.org and navigate to the Advanced Search page.\\n2. Enter \\\"AI regulation\\\" in the search box and select \\\"All fields\\\" from the dropdown.\\n3. Enter 2022-06-01 and 2022-07-01 into the date inputs, select \\\"Submission date (original)\\\", and submit the search.\\n4. Go through the search results to find the article that has a figure with three axes and labels on each end of the axes, titled \\\"Fairness in Agreement With European Values: An Interdisciplinary Perspective on AI Regulation\\\".\\n5. Note the six words used as labels: deontological, egalitarian, localized, standardized, utilitarian, and consequential.\\n6. Go back to arxiv.org\\n7. Find \\\"Physics and Society\\\" and go to the page for the \\\"Physics and Society\\\" category.\\n8. Note that the tag for this category is \\\"physics.soc-ph\\\".\\n9. Go to the Advanced Search page.\\n10. Enter \\\"physics.soc-ph\\\" in the search box and select \\\"All fields\\\" from the dropdown.\\n11. Enter 2016-08-11 and 2016-08-12 into the date inputs, select \\\"Submission date (original)\\\", and submit the search.\\n12. Search for instances of the six words in the results to find the paper titled \\\"Phase transition from egalitarian to hierarchical societies driven by competition between cognitive and social constraints\\\", indicating that \\\"egalitarian\\\" is the correct answer.\", \"Number of steps\": \"12\", \"How long did this take?\": \"8 minutes\", \"Tools\": \"1. Web browser\\n2. Image recognition tools (to identify and parse a figure with three axes)\", \"Number of tools\": \"2\"}}\n",
    "\n",
    "import random\n",
    "# random.seed(42)\n",
    "random_samples = random.sample(json_QA, 1)\n",
    "for sample in random_samples:\n",
    "    print(\"=\" * 50)\n",
    "    print(f\"Task ID: {sample['task_id']}\")\n",
    "    print(f\"Question: {sample['Question']}\")\n",
    "    print(f\"Level: {sample['Level']}\")\n",
    "    print(f\"Final Answer: {sample['Final answer']}\")\n",
    "    print(f\"Annotator Metadata: \")\n",
    "    print(f\"  ├── Steps: \")\n",
    "    for step in sample['Annotator Metadata']['Steps'].split('\\n'):\n",
    "        print(f\"  │      ├── {step}\")\n",
    "    print(f\"  ├── Number of steps: {sample['Annotator Metadata']['Number of steps']}\")\n",
    "    print(f\"  ├── How long did this take?: {sample['Annotator Metadata']['How long did this take?']}\")\n",
    "    print(f\"  ├── Tools:\")\n",
    "    for tool in sample['Annotator Metadata']['Tools'].split('\\n'):\n",
    "        print(f\"  │      ├── {tool}\")\n",
    "    print(f\"  └── Number of tools: {sample['Annotator Metadata']['Number of tools']}\")\n",
    "print(\"=\" * 50)"
   ]
  },
  {
   "cell_type": "code",
   "execution_count": 8,
   "id": "56e142a4-2543-4c11-8651-0dba7f02418d",
   "metadata": {},
   "outputs": [
    {
     "name": "stdout",
     "output_type": "stream",
     "text": [
      "List of tools used in all samples:\n",
      "Total number of tools used: 83\n",
      "  ├── web browser: 107\n",
      "  ├── image recognition tools (to identify and parse a figure with three axes): 1\n",
      "  ├── search engine: 101\n",
      "  ├── calculator: 34\n",
      "  ├── unlambda compiler (optional): 1\n",
      "  ├── a web browser.: 2\n",
      "  ├── a search engine.: 2\n",
      "  ├── a calculator.: 1\n",
      "  ├── microsoft excel: 5\n",
      "  ├── google search: 1\n",
      "  ├── ne: 9\n",
      "  ├── pdf access: 7\n",
      "  ├── file handling: 2\n",
      "  ├── python: 3\n",
      "  ├── image recognition tools: 12\n",
      "  ├── jsonld file access: 1\n",
      "  ├── video parsing: 1\n",
      "  ├── python compiler: 1\n",
      "  ├── video recognition tools: 3\n",
      "  ├── pdf viewer: 7\n",
      "  ├── microsoft excel / google sheets: 3\n",
      "  ├── word document access: 1\n",
      "  ├── tool to extract text from images: 1\n",
      "  ├── a word reversal tool / script: 1\n",
      "  ├── counter: 1\n",
      "  ├── excel: 3\n",
      "  ├── image recognition: 5\n",
      "  ├── color recognition: 3\n",
      "  ├── excel file access: 3\n",
      "  ├── xml file access: 1\n",
      "  ├── access to the internet archive, web.archive.org: 1\n",
      "  ├── text processing/diff tool: 1\n",
      "  ├── gif parsing tools: 1\n",
      "  ├── a web browser: 7\n",
      "  ├── a search engine: 7\n",
      "  ├── a speech-to-text tool: 2\n",
      "  ├── code/data analysis tools: 1\n",
      "  ├── audio capability: 2\n",
      "  ├── pdf reader: 1\n",
      "  ├── markdown: 1\n",
      "  ├── a calculator: 5\n",
      "  ├── access to wikipedia: 3\n",
      "  ├── image recognition/ocr: 3\n",
      "  ├── google translate access: 1\n",
      "  ├── ocr: 4\n",
      "  ├── bass note data: 1\n",
      "  ├── text editor: 1\n",
      "  ├── xlsx file access: 1\n",
      "  ├── powerpoint viewer: 1\n",
      "  ├── csv file access: 1\n",
      "  ├── calculator (or use excel): 1\n",
      "  ├── computer algebra system: 1\n",
      "  ├── video processing software: 1\n",
      "  ├── audio processing software: 1\n",
      "  ├── computer vision: 1\n",
      "  ├── google maps: 1\n",
      "  ├── access to excel files: 1\n",
      "  ├── calculator (or ability to count): 1\n",
      "  ├── a file interface: 3\n",
      "  ├── a python ide: 1\n",
      "  ├── spreadsheet editor: 1\n",
      "  ├── tools required: 1\n",
      "  ├── b browser: 1\n",
      "  ├── image recognition and processing tools: 1\n",
      "  ├── computer vision or ocr: 1\n",
      "  ├── c++ compiler: 1\n",
      "  ├── access to google maps: 1\n",
      "  ├── youtube player: 1\n",
      "  ├── natural language processor: 1\n",
      "  ├── graph interaction tools: 1\n",
      "  ├── bablyonian cuniform -> arabic legend: 1\n",
      "  ├── access to youtube: 1\n",
      "  ├── image search tools: 1\n",
      "  ├── calculator or counting function: 1\n",
      "  ├── a speech-to-text audio processing tool: 1\n",
      "  ├── access to academic journal websites: 1\n",
      "  ├── pdf reader/extracter: 1\n",
      "  ├── rubik's cube model: 1\n",
      "  ├── wikipedia: 1\n",
      "  ├── video capability: 1\n",
      "  ├── image processing tools: 1\n",
      "  ├── age recognition software: 1\n",
      "  ├── youtube: 1\n"
     ]
    }
   ],
   "source": [
    "# list of the tools used in all the samples\n",
    "from collections import Counter, OrderedDict\n",
    "\n",
    "tools = []\n",
    "for sample in json_QA:\n",
    "    for tool in sample['Annotator Metadata']['Tools'].split('\\n'):\n",
    "        tool = tool[2:].strip().lower()\n",
    "        if tool.startswith(\"(\"):\n",
    "            tool = tool[11:].strip()\n",
    "        tools.append(tool)\n",
    "tools_counter = OrderedDict(Counter(tools))\n",
    "print(\"List of tools used in all samples:\")\n",
    "print(\"Total number of tools used:\", len(tools_counter))\n",
    "for tool, count in tools_counter.items():\n",
    "    print(f\"  ├── {tool}: {count}\")"
   ]
  },
  {
   "cell_type": "code",
   "execution_count": null,
   "id": "a9d01538-359b-4f42-8539-5f5c27b7d2eb",
   "metadata": {},
   "outputs": [],
   "source": []
  }
 ],
 "metadata": {
  "kernelspec": {
   "display_name": "Python 3 (ipykernel)",
   "language": "python",
   "name": "python3"
  },
  "language_info": {
   "codemirror_mode": {
    "name": "ipython",
    "version": 3
   },
   "file_extension": ".py",
   "mimetype": "text/x-python",
   "name": "python",
   "nbconvert_exporter": "python",
   "pygments_lexer": "ipython3",
   "version": "3.10.16"
  }
 },
 "nbformat": 4,
 "nbformat_minor": 5
}
